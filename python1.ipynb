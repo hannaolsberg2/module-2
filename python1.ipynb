{
 "cells": [
  {
   "cell_type": "code",
   "execution_count": null,
   "metadata": {},
   "outputs": [],
   "source": []
  },
  {
   "cell_type": "code",
   "execution_count": null,
   "metadata": {},
   "outputs": [],
   "source": [
    "s)"
   ]
  },
  {
   "cell_type": "code",
   "execution_count": null,
   "metadata": {},
   "outputs": [],
   "source": [
    "s = input(\"\")\n",
    "for character in s:\n",
    "    print(character)"
   ]
  },
  {
   "cell_type": "code",
   "execution_count": null,
   "metadata": {},
   "outputs": [],
   "source": [
    "Final project"
   ]
  },
  {
   "cell_type": "code",
   "execution_count": 18,
   "metadata": {},
   "outputs": [
    {
     "name": "stdout",
     "output_type": "stream",
     "text": [
      "Money spent: 3000, Total money spent: 3000\n",
      "Revenue added: 5000, Total revenue: 5000\n",
      "Profit: 2000\n",
      "Days completed: 5/30\n",
      "Goals completed: 4/5\n",
      "Project is 17% completed.\n",
      "['Spent 3000', 'Revenue added 5000']\n"
     ]
    }
   ],
   "source": [
    "# Initialize the tracker as a dictionary to store all relevant data\n",
    "def initialize_tracker(budget, project_duration, project_goals):\n",
    "    tracker = {\n",
    "        \"budget\": budget,\n",
    "        \"money_spent\": 0,\n",
    "        \"revenue\": 0,\n",
    "        \"project_duration\": project_duration,  # in days\n",
    "        \"days_completed\": 0,\n",
    "        \"project_goals\": project_goals,  # total number of goals\n",
    "        \"goals_completed\": 0,\n",
    "        \"transaction_log\": []  # to track spending and revenue\n",
    "    }\n",
    "    return tracker\n",
    "\n",
    "# Spend money and update the tracker\n",
    "def spend_money(tracker, amount):\n",
    "    if amount > tracker[\"budget\"] - tracker[\"money_spent\"]:\n",
    "        return \"Not enough budget available!\"\n",
    "    else:\n",
    "        tracker[\"money_spent\"] += amount\n",
    "        tracker[\"transaction_log\"].append(f\"Spent {amount}\")\n",
    "        return f\"Money spent: {amount}, Total money spent: {tracker['money_spent']}\"\n",
    "\n",
    "# Add revenue and update the tracker\n",
    "def add_revenue(tracker, amount):\n",
    "    tracker[\"revenue\"] += amount\n",
    "    tracker[\"transaction_log\"].append(f\"Revenue added {amount}\")\n",
    "    return f\"Revenue added: {amount}, Total revenue: {tracker['revenue']}\"\n",
    "\n",
    "# Calculate and return profit or loss\n",
    "def get_profit_or_loss(tracker):\n",
    "    profit_or_loss = tracker[\"revenue\"] - tracker[\"money_spent\"]\n",
    "    if profit_or_loss >= 0:\n",
    "        return f\"Profit: {profit_or_loss}\"\n",
    "    else:\n",
    "        return f\"Loss: {abs(profit_or_loss)}\"\n",
    "\n",
    "# Update project duration progress\n",
    "def update_days_completed(tracker, days):\n",
    "    if tracker[\"days_completed\"] + days > tracker[\"project_duration\"]:\n",
    "        return \"You cannot exceed the project duration!\"\n",
    "    else:\n",
    "        tracker[\"days_completed\"] += days\n",
    "        return f\"Days completed: {tracker['days_completed']}/{tracker['project_duration']}\"\n",
    "\n",
    "def get_project_progress(tracker):\n",
    "    progress = round((tracker[\"days_completed\"] / tracker[\"project_duration\"]) * 100)\n",
    "    return f\"Project is {progress}% completed.\"\n",
    "\n",
    "# Update goals progress\n",
    "def update_goals_completed(tracker, goals):\n",
    "    if tracker[\"goals_completed\"] + goals > tracker[\"project_goals\"]:\n",
    "        return \"You cannot exceed the number of project goals!\"\n",
    "    else:\n",
    "        tracker[\"goals_completed\"] += goals\n",
    "        return f\"Goals completed: {tracker['goals_completed']}/{tracker['project_goals']}\"\n",
    "\n",
    "\n",
    "# Transaction history\n",
    "def show_transaction_log(tracker):\n",
    "    return tracker[\"transaction_log\"]\n",
    "\n",
    "tracker = initialize_tracker(10000, 30, 5)\n",
    "print(spend_money(tracker,3000))\n",
    "print(add_revenue(tracker, 5000))\n",
    "print(get_profit_or_loss(tracker))\n",
    "print(update_days_completed(tracker, 5))\n",
    "print(update_goals_completed(tracker, 4))\n",
    "print(get_project_progress(tracker))\n",
    "print(show_transaction_log(tracker))"
   ]
  }
 ],
 "metadata": {
  "kernelspec": {
   "display_name": "Python 3",
   "language": "python",
   "name": "python3"
  },
  "language_info": {
   "codemirror_mode": {
    "name": "ipython",
    "version": 3
   },
   "file_extension": ".py",
   "mimetype": "text/x-python",
   "name": "python",
   "nbconvert_exporter": "python",
   "pygments_lexer": "ipython3",
   "version": "3.9.6"
  }
 },
 "nbformat": 4,
 "nbformat_minor": 2
}
